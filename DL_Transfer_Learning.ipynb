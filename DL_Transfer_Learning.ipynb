{
  "cells": [
    {
      "cell_type": "markdown",
      "metadata": {
        "id": "bZsDTgS9N4Rn"
      },
      "source": [
        "# Usando modelos pré-treinados"
      ]
    },
    {
      "cell_type": "markdown",
      "metadata": {
        "id": "PHETqbk4N6qB"
      },
      "source": [
        "Iremos utilizar o Hugging Faces para facilitar a obtenção de modelos pré-treinados para fazermos o transfer learning"
      ]
    },
    {
      "cell_type": "code",
      "execution_count": null,
      "metadata": {
        "colab": {
          "base_uri": "https://localhost:8080/"
        },
        "id": "dKV6CiKJN2gG",
        "outputId": "902371a1-d700-49b5-eebe-8289fbcc7fe1"
      },
      "outputs": [],
      "source": [
        "!pip install transformers --quiet\n",
        "!pip install datasets --quiet"
      ]
    },
    {
      "cell_type": "code",
      "execution_count": null,
      "metadata": {
        "id": "G7tW2sYtO4BY"
      },
      "outputs": [],
      "source": [
        "import torch.nn as nn\n",
        "import torch\n",
        "\n",
        "from dataloader import create_CIFAR10_loader\n",
        "from tqdm import tqdm"
      ]
    },
    {
      "cell_type": "code",
      "execution_count": null,
      "metadata": {
        "id": "sixYe77yO39J"
      },
      "outputs": [],
      "source": [
        "#Extraído de https://github.com/rasbt/stat453-deep-learning-ss21/blob/2202699c5fd38af398e2682f289a0868b1b91f0e/L13/code/helper_evaluation.py\n",
        "\n",
        "def compute_history(model, data_loader, device, loss, n_samples = 50):\n",
        "\n",
        "    with torch.no_grad():\n",
        "\n",
        "        loss_ac, correct_pred, num_examples = 0, 0, 0\n",
        "\n",
        "        for i, batch in enumerate(data_loader):\n",
        "            features = batch['pixel_values'].to(device)\n",
        "            targets = batch['labels'].to(device)\n",
        "            \n",
        "            output = model(features)\n",
        "\n",
        "            logits = output['logits']\n",
        "\n",
        "            loss_val = loss(logits, targets)\n",
        "            _, predicted_labels = torch.max(logits, 1)\n",
        "\n",
        "            num_examples += targets.size(0)\n",
        "            loss_ac += (loss_val.item())\n",
        "            correct_pred += (predicted_labels == targets.float()).sum()\n",
        "\n",
        "            if i % n_samples == n_samples - 1:\n",
        "              break\n",
        "    return correct_pred.float()/num_examples * 100, loss_ac/num_examples * 100"
      ]
    },
    {
      "cell_type": "markdown",
      "metadata": {
        "id": "xXKYACvJO4hC"
      },
      "source": [
        "## Carregando informações pré-treinadas"
      ]
    },
    {
      "cell_type": "code",
      "execution_count": null,
      "metadata": {
        "id": "1oSCvc4xO372"
      },
      "outputs": [],
      "source": [
        "from transformers import AutoFeatureExtractor, AutoModelForImageClassification\n",
        "\n",
        "model_name = \"google/vit-base-patch16-224\"\n",
        "model_name = \"microsoft/resnet-50\"\n",
        "\n",
        "model = AutoModelForImageClassification.from_pretrained(model_name)"
      ]
    },
    {
      "cell_type": "code",
      "execution_count": null,
      "metadata": {
        "colab": {
          "base_uri": "https://localhost:8080/"
        },
        "id": "qkFNUb1UZ4sF",
        "outputId": "cc0db84b-e298-46b5-89d0-c43cc2bd2c36"
      },
      "outputs": [],
      "source": []
    },
    {
      "cell_type": "code",
      "execution_count": null,
      "metadata": {
        "id": "F1MK2m8OPtXd"
      },
      "outputs": [],
      "source": []
    },
    {
      "cell_type": "code",
      "execution_count": null,
      "metadata": {
        "colab": {
          "base_uri": "https://localhost:8080/"
        },
        "id": "ezFG0wdcQZ70",
        "outputId": "eafe8cba-94c8-4a3d-a234-6d4731751bfd"
      },
      "outputs": [],
      "source": []
    },
    {
      "cell_type": "code",
      "execution_count": null,
      "metadata": {
        "id": "LH1CVb7GTh4C"
      },
      "outputs": [],
      "source": [
        "epochs = 2 \n",
        "device = 'cuda' if torch.cuda.is_available() else 'cpu'"
      ]
    },
    {
      "cell_type": "code",
      "execution_count": null,
      "metadata": {
        "id": "1fa47IeETQRg"
      },
      "outputs": [],
      "source": []
    },
    {
      "cell_type": "code",
      "execution_count": null,
      "metadata": {
        "id": "Ve3nvoq0Tc_T"
      },
      "outputs": [],
      "source": []
    },
    {
      "cell_type": "code",
      "execution_count": null,
      "metadata": {
        "colab": {
          "base_uri": "https://localhost:8080/"
        },
        "id": "74s3P7_HQdrT",
        "outputId": "8dc897f7-5f05-4b19-90aa-cf43cc407fc4"
      },
      "outputs": [],
      "source": [
        "train_loader, val_loader = create_CIFAR10_loader(model_name, ID=True)"
      ]
    },
    {
      "cell_type": "code",
      "execution_count": null,
      "metadata": {
        "colab": {
          "base_uri": "https://localhost:8080/",
          "height": 263
        },
        "id": "2JDGIhUeQdnY",
        "outputId": "7054506e-efa8-4f91-8032-37fdbdfadf9e"
      },
      "outputs": [],
      "source": [
        "minibatch_loss_list, train_acc_list, valid_acc_list, train_loss_list, valid_loss_list = [], [], [], [], []\n",
        "\n",
        "criterion = torch.nn.functional.cross_entropy\n",
        "\n",
        "for epoch in range(epochs):\n",
        "\n",
        "    model.train()\n",
        "    for batch in tqdm(train_loader):\n",
        "\n",
        "        optimizer.zero_grad()\n",
        "\n",
        "        X_train = batch['pixel_values'].to(device)\n",
        "        y_train = batch['labels'].to(device)\n",
        "\n",
        "        output = model(X_train)\n",
        "        logits = output['logits']\n",
        "        loss = criterion(logits, y_train)\n",
        "        \n",
        "        loss.backward()\n",
        "        optimizer.step()\n",
        "\n",
        "        minibatch_loss_list.append(loss.item())\n",
        "        \n",
        "    #Validação\n",
        "    model.eval()\n",
        "    with torch.no_grad():\n",
        "        train_acc, train_loss = compute_history(model, train_loader, device, criterion)\n",
        "        valid_acc, valid_loss = compute_history(model, val_loader, device, criterion)\n",
        "        \n",
        "        train_acc_list.append(train_acc.item())\n",
        "        valid_acc_list.append(valid_acc.item())\n",
        "        \n",
        "        train_loss_list.append(train_loss)\n",
        "        valid_loss_list.append(valid_loss)\n"
      ]
    },
    {
      "cell_type": "code",
      "execution_count": null,
      "metadata": {
        "id": "8MvWy49eQdl9"
      },
      "outputs": [],
      "source": []
    },
    {
      "cell_type": "markdown",
      "metadata": {
        "id": "HPbO-zWOQefd"
      },
      "source": [
        "## Congelando algumas camadas para o ajuste da rede"
      ]
    },
    {
      "cell_type": "code",
      "execution_count": null,
      "metadata": {
        "colab": {
          "base_uri": "https://localhost:8080/"
        },
        "id": "vTzGaP3uRhsq",
        "outputId": "c20f6274-4768-41d0-f73c-b53ad23f2025"
      },
      "outputs": [],
      "source": [
        "minibatch_loss_list, train_acc_list, valid_acc_list, train_loss_list, valid_loss_list = [], [], [], [], []\n",
        "\n",
        "criterion = torch.nn.functional.cross_entropy\n",
        "\n",
        "epochs = 2\n",
        "\n",
        "for epoch in range(epochs):\n",
        "\n",
        "    model.train()\n",
        "    for batch in tqdm(train_loader):\n",
        "\n",
        "        optimizer.zero_grad()\n",
        "\n",
        "        X_train = batch['pixel_values'].to(device)\n",
        "        y_train = batch['labels'].to(device)\n",
        "\n",
        "        output = model(X_train)\n",
        "        logits = output['logits']\n",
        "        loss = criterion(logits, y_train)\n",
        "        \n",
        "        loss.backward()\n",
        "        optimizer.step()\n",
        "\n",
        "        minibatch_loss_list.append(loss.item())\n",
        "\n",
        "        \n",
        "    #Validação\n",
        "    model.eval()\n",
        "    with torch.no_grad():\n",
        "        train_acc, train_loss = compute_history(model, train_loader, device, criterion)\n",
        "        valid_acc, valid_loss = compute_history(model, val_loader, device, criterion)\n",
        "        \n",
        "        train_acc_list.append(train_acc.item())\n",
        "        valid_acc_list.append(valid_acc.item())\n",
        "        \n",
        "        train_loss_list.append(train_loss)\n",
        "        valid_loss_list.append(valid_loss)\n"
      ]
    },
    {
      "cell_type": "code",
      "execution_count": null,
      "metadata": {
        "id": "OQt7kTtqYGw1"
      },
      "outputs": [],
      "source": []
    }
  ],
  "metadata": {
    "accelerator": "GPU",
    "colab": {
      "name": "Untitled26.ipynb",
      "provenance": []
    },
    "gpuClass": "standard",
    "kernelspec": {
      "display_name": "Python 3",
      "name": "python3"
    },
    "language_info": {
      "name": "python"
    }
  },
  "nbformat": 4,
  "nbformat_minor": 0
}
